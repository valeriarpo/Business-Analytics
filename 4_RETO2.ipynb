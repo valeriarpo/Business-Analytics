{
  "nbformat": 4,
  "nbformat_minor": 0,
  "metadata": {
    "colab": {
      "provenance": [],
      "authorship_tag": "ABX9TyNlh3nvoRGE8BxXsa8dc2x2",
      "include_colab_link": true
    },
    "kernelspec": {
      "name": "python3",
      "display_name": "Python 3"
    },
    "language_info": {
      "name": "python"
    }
  },
  "cells": [
    {
      "cell_type": "markdown",
      "metadata": {
        "id": "view-in-github",
        "colab_type": "text"
      },
      "source": [
        "<a href=\"https://colab.research.google.com/github/valeriarpo/Business-Analytics/blob/main/4_RETO2.ipynb\" target=\"_parent\"><img src=\"https://colab.research.google.com/assets/colab-badge.svg\" alt=\"Open In Colab\"/></a>"
      ]
    },
    {
      "cell_type": "markdown",
      "source": [
        "Valeria Restrepo Betancur\n",
        "Reto 2 - Arboles de decisión\n",
        "0.Cargar las librerias de decisión"
      ],
      "metadata": {
        "id": "Tjzsab0vbsy4"
      }
    },
    {
      "cell_type": "code",
      "execution_count": null,
      "metadata": {
        "colab": {
          "base_uri": "https://localhost:8080/"
        },
        "id": "nPg3LOYTbn_1",
        "outputId": "70f210af-4250-4631-ac50-9947eed03a00"
      },
      "outputs": [
        {
          "output_type": "stream",
          "name": "stdout",
          "text": [
            "Mounted at /content/drive\n"
          ]
        }
      ],
      "source": [
        "import pandas as pd\n",
        "import numpy as np\n",
        "import matplotlib.pyplot as plt\n",
        "\n",
        "from sklearn.tree import DecisionTreeClassifier\n",
        "\n",
        "from google.colab import drive\n",
        "drive.mount('/content/drive')"
      ]
    },
    {
      "cell_type": "markdown",
      "source": [
        "1. Se cargan los datos desde el drive"
      ],
      "metadata": {
        "id": "BDbXLHGClhqV"
      }
    },
    {
      "cell_type": "code",
      "source": [
        "nxl = \"/content/drive/MyDrive/ANALITICA DE NEGOCIOS/2. BD2_In_App_Pur_Int.xlsx\"\n",
        "XDB = pd.read_excel(nxl, sheet_name= 0)\n",
        "XDB= XDB.dropna()    #Evitar celdas vacias\n",
        "XDB.head()\n",
        "#Seleccionamos las variables de interés\n",
        "XD=XDB[[\"Age\", \"Income\", \"Years\", \"Hours\"]]\n",
        "XD.head()                                         #Se necesita array para que los lea como números\n",
        "XD=np.array(XD)           #Convierte la tabla en números\n",
        "XD\n",
        "yd=XDB[[\"Buy\"]] ; yd=np.array(yd)       #Variable de Salida - Convierte a la tabla\n",
        "\n"
      ],
      "metadata": {
        "id": "p8RRUKsWc04O"
      },
      "execution_count": null,
      "outputs": []
    },
    {
      "cell_type": "markdown",
      "source": [
        "2. Se procede con la construcción del modelo de árbol"
      ],
      "metadata": {
        "id": "z3P0LqCiiB7C"
      }
    },
    {
      "cell_type": "code",
      "source": [
        "from re import S\n",
        "mar = DecisionTreeClassifier(criterion=\"gini\", max_depth= 4)\n",
        "mar.fit(XD,yd)     #Valores de pronóstico sirven para evaluar el modelo\n",
        "ydp = mar.predict(XD)\n",
        "\n",
        "#Evaluamos el modelo\n",
        "from sklearn.metrics import confusion_matrix\n",
        "cm = confusion_matrix(yd, ydp)\n",
        "VN = cm[0][0]\n",
        "FP = cm[0][1]\n",
        "FN = cm[1][0]\n",
        "VP = cm[1][1]\n",
        "print(cm)\n",
        "Exactitud = (VP+VN)/(VP+VN+FP+FN)\n",
        "Exactitud\n",
        "Sensibilidad = VP/(VP+FN)\n",
        "Sensibilidad\n",
        "Especificidad = VN/(VN+FP)\n",
        "Especificidad\n",
        "\n",
        "print(\"Exactitud\", Exactitud, \"Sensibilidad\", Sensibilidad, \"Especificidad\", Especificidad)\n"
      ],
      "metadata": {
        "colab": {
          "base_uri": "https://localhost:8080/"
        },
        "id": "c_FET6iziBvn",
        "outputId": "1b7f7b24-e63c-4562-f292-9c3d047de269"
      },
      "execution_count": null,
      "outputs": [
        {
          "output_type": "stream",
          "name": "stdout",
          "text": [
            "[[139  50]\n",
            " [ 11 200]]\n",
            "Exactitud 0.8475 Sensibilidad 0.9478672985781991 Especificidad 0.7354497354497355\n"
          ]
        }
      ]
    },
    {
      "cell_type": "markdown",
      "source": [
        "3. Se procede con la visualización del árbol"
      ],
      "metadata": {
        "id": "PIQvhSxck-Nj"
      }
    },
    {
      "cell_type": "code",
      "source": [
        "from sklearn.tree import export_graphviz      #export graphiz es graficador\n",
        "from pydotplus import graph_from_dot_data\n",
        "from IPython.display import Image\n",
        "from google.colab import files\n",
        "vs= [\"Age\", \"Income\", \"Years\", \"Hours\"] #Estos nombres aparecen en el arbol\n",
        "\n",
        "dot_data=export_graphviz(mar, feature_names=vs)\n",
        "graph= graph_from_dot_data(dot_data)      #Se hace gráfico del Árbol\n",
        "graph.write_png(\"arbol.png\")            #Se crea la imagén\n",
        "Image(\"arbol.png\")\n",
        "files.download('arbol.png')"
      ],
      "metadata": {
        "colab": {
          "base_uri": "https://localhost:8080/",
          "height": 17
        },
        "collapsed": true,
        "id": "cUMTT8HFlBti",
        "outputId": "b9e6b6dd-aecf-46ba-c886-d10a7480c4db"
      },
      "execution_count": null,
      "outputs": [
        {
          "output_type": "display_data",
          "data": {
            "text/plain": [
              "<IPython.core.display.Javascript object>"
            ],
            "application/javascript": [
              "\n",
              "    async function download(id, filename, size) {\n",
              "      if (!google.colab.kernel.accessAllowed) {\n",
              "        return;\n",
              "      }\n",
              "      const div = document.createElement('div');\n",
              "      const label = document.createElement('label');\n",
              "      label.textContent = `Downloading \"${filename}\": `;\n",
              "      div.appendChild(label);\n",
              "      const progress = document.createElement('progress');\n",
              "      progress.max = size;\n",
              "      div.appendChild(progress);\n",
              "      document.body.appendChild(div);\n",
              "\n",
              "      const buffers = [];\n",
              "      let downloaded = 0;\n",
              "\n",
              "      const channel = await google.colab.kernel.comms.open(id);\n",
              "      // Send a message to notify the kernel that we're ready.\n",
              "      channel.send({})\n",
              "\n",
              "      for await (const message of channel.messages) {\n",
              "        // Send a message to notify the kernel that we're ready.\n",
              "        channel.send({})\n",
              "        if (message.buffers) {\n",
              "          for (const buffer of message.buffers) {\n",
              "            buffers.push(buffer);\n",
              "            downloaded += buffer.byteLength;\n",
              "            progress.value = downloaded;\n",
              "          }\n",
              "        }\n",
              "      }\n",
              "      const blob = new Blob(buffers, {type: 'application/binary'});\n",
              "      const a = document.createElement('a');\n",
              "      a.href = window.URL.createObjectURL(blob);\n",
              "      a.download = filename;\n",
              "      div.appendChild(a);\n",
              "      a.click();\n",
              "      div.remove();\n",
              "    }\n",
              "  "
            ]
          },
          "metadata": {}
        },
        {
          "output_type": "display_data",
          "data": {
            "text/plain": [
              "<IPython.core.display.Javascript object>"
            ],
            "application/javascript": [
              "download(\"download_a2e9c711-e907-4c0e-9d3f-c6fe50b69085\", \"arbol.png\", 63982)"
            ]
          },
          "metadata": {}
        }
      ]
    },
    {
      "cell_type": "markdown",
      "source": [
        "4. Le calculamos los valores de compra a los solicitantes nuevos"
      ],
      "metadata": {
        "id": "OiPtXyf4mgtT"
      }
    },
    {
      "cell_type": "code",
      "source": [
        "XDB2=pd.read_excel(nxl, sheet_name=1)   #Hoja dos es la que no tiene salida\n",
        "XDB2=XDB2[[\"Age\", \"Income\", \"Years\", \"Hours\"]]\n",
        "XDB2=XDB2.dropna()   #Base de datos solicitantes nuevos\n",
        "\n",
        "XD2=np.array(XDB2)\n",
        "ydp2=mar.predict(XD2)\n",
        "XDB2[\"Buy\"]=ydp2     #Le pego la columna a la base de datos\n",
        "XDB2.head()\n",
        "\n",
        "XDB2.to_excel(\"NuevosSolicitantes1.xlsx\")   #Importancia del analísis\n",
        "files.download('NuevosSolicitantes1.xlsx')\n",
        "\n",
        "len(ydp2)\n",
        "compradores = np.sum(ydp2==1)\n",
        "print(\"El número de compradores es\", compradores)\n",
        "no_comprador = len(ydp2)-np.sum(ydp2==1)\n",
        "print(\"El número de no compradores es\", no_comprador)\n",
        "\n"
      ],
      "metadata": {
        "colab": {
          "base_uri": "https://localhost:8080/",
          "height": 52
        },
        "id": "MoNMwFq9mvZr",
        "outputId": "725585a2-45fc-4f48-89d2-4e8073d9e560"
      },
      "execution_count": null,
      "outputs": [
        {
          "output_type": "display_data",
          "data": {
            "text/plain": [
              "<IPython.core.display.Javascript object>"
            ],
            "application/javascript": [
              "\n",
              "    async function download(id, filename, size) {\n",
              "      if (!google.colab.kernel.accessAllowed) {\n",
              "        return;\n",
              "      }\n",
              "      const div = document.createElement('div');\n",
              "      const label = document.createElement('label');\n",
              "      label.textContent = `Downloading \"${filename}\": `;\n",
              "      div.appendChild(label);\n",
              "      const progress = document.createElement('progress');\n",
              "      progress.max = size;\n",
              "      div.appendChild(progress);\n",
              "      document.body.appendChild(div);\n",
              "\n",
              "      const buffers = [];\n",
              "      let downloaded = 0;\n",
              "\n",
              "      const channel = await google.colab.kernel.comms.open(id);\n",
              "      // Send a message to notify the kernel that we're ready.\n",
              "      channel.send({})\n",
              "\n",
              "      for await (const message of channel.messages) {\n",
              "        // Send a message to notify the kernel that we're ready.\n",
              "        channel.send({})\n",
              "        if (message.buffers) {\n",
              "          for (const buffer of message.buffers) {\n",
              "            buffers.push(buffer);\n",
              "            downloaded += buffer.byteLength;\n",
              "            progress.value = downloaded;\n",
              "          }\n",
              "        }\n",
              "      }\n",
              "      const blob = new Blob(buffers, {type: 'application/binary'});\n",
              "      const a = document.createElement('a');\n",
              "      a.href = window.URL.createObjectURL(blob);\n",
              "      a.download = filename;\n",
              "      div.appendChild(a);\n",
              "      a.click();\n",
              "      div.remove();\n",
              "    }\n",
              "  "
            ]
          },
          "metadata": {}
        },
        {
          "output_type": "display_data",
          "data": {
            "text/plain": [
              "<IPython.core.display.Javascript object>"
            ],
            "application/javascript": [
              "download(\"download_4447f0f7-6d82-4a8e-9658-5d11e3e1f20c\", \"NuevosSolicitantes1.xlsx\", 5037)"
            ]
          },
          "metadata": {}
        },
        {
          "output_type": "stream",
          "name": "stdout",
          "text": [
            "El número de compradores es 1\n",
            "El número de no compradores es 1\n"
          ]
        }
      ]
    },
    {
      "cell_type": "markdown",
      "source": [
        "**Analísis de resultados**\n",
        "En la base de datos se puede observar un total de 400 individuos alrededor de 189 no compraron en la aplicación (47.25%), y un total de 211 individuos compraron en la app (52.75%). De acuerdo con lo anterior, el modelo de árbol mostró una exactitud de 84.75%, lo cual es positivo pues muestra la alta precisión en analizar todos los datos, adicionalmente el indice de sensibilidad es del 94.7%, esto muestra la alta exactitud del modelo al analizar a los compradores. Por otro lado la especificidad fue del 73.5%, esta es relativamente buena al analizar los no compradores.\n",
        "En los dos nuevos jugadores, el primero tiene una probabilidad de comprar dentro de la aplicación de 66.9% y de no comprar de 33%, lo cual nos da a entender que hay mayor probabilidad de que compre el primer jugador. El segundo jugador tiene una probabilidad del 100% de no comprar en la aplicación.\n",
        "\n",
        "El primer nodo puro es de un ingreso menor o igual a 63.5, lo cual nos da una probabilidad del 100% de que los jugadores que tengan un ingreso menor no compren en la app. El segundo nodo puro tiene como regla tener mas years que 0.5. Y como ultimo, el tercer nudo puro es con una edad mayor a 23 años de edad.\n",
        "Las reglas para los nodos Puro:\n",
        "1. Income <= 63.5\n",
        "2. Income >63.5 AND Years <=1.5 AND Years > 0.5\n",
        "3. Income >63.5 AND Years <=1.5 AND Years <= 0.5 AND Age > 23\n",
        "\n",
        "Las reglas para los nuevos casos son las siguientes:\n",
        "1. Income >63.5 AND Years >1.5 AND Years <= 5.5 AND Income > 76.5\n",
        "2.  Income >63.5 AND Years <=1.5 AND Years > 0.5 (28,0)\n",
        "\n"
      ],
      "metadata": {
        "id": "S0reYTsus9Es"
      }
    }
  ]
}