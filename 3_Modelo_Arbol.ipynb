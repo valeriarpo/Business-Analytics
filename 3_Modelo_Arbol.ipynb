{
  "nbformat": 4,
  "nbformat_minor": 0,
  "metadata": {
    "colab": {
      "provenance": [],
      "authorship_tag": "ABX9TyPQ5LMXyDoYt7O2Qeb2KSaT",
      "include_colab_link": true
    },
    "kernelspec": {
      "name": "python3",
      "display_name": "Python 3"
    },
    "language_info": {
      "name": "python"
    }
  },
  "cells": [
    {
      "cell_type": "markdown",
      "metadata": {
        "id": "view-in-github",
        "colab_type": "text"
      },
      "source": [
        "<a href=\"https://colab.research.google.com/github/valeriarpo/Business-Analytics/blob/main/3_Modelo_Arbol.ipynb\" target=\"_parent\"><img src=\"https://colab.research.google.com/assets/colab-badge.svg\" alt=\"Open In Colab\"/></a>"
      ]
    },
    {
      "cell_type": "markdown",
      "source": [
        "**Modelo Arbol Decisión**\n",
        "0. Se cargan las librerias de trabajo\n",
        "1."
      ],
      "metadata": {
        "id": "sYKsKjNBw2Bs"
      }
    },
    {
      "cell_type": "code",
      "execution_count": null,
      "metadata": {
        "colab": {
          "base_uri": "https://localhost:8080/"
        },
        "id": "pImM6N3pwSTU",
        "outputId": "ef2ffd97-8104-44c2-f910-02b0892dad2a"
      },
      "outputs": [
        {
          "output_type": "stream",
          "name": "stdout",
          "text": [
            "Mounted at /content/drive\n"
          ]
        }
      ],
      "source": [
        "import pandas as pd\n",
        "import numpy as np\n",
        "import matplotlib.pyplot as plt\n",
        "\n",
        "#Se trae el modelo\n",
        "from sklearn.tree import DecisionTreeClassifier  #prestamo interbibliotecario\n",
        "\n",
        "#Para llamar los archivos del drive sin tener que subirlos\n",
        "from google.colab import drive\n",
        "drive.mount('/content/drive')\n"
      ]
    },
    {
      "cell_type": "markdown",
      "source": [
        "1. Se cargan los datos desde el drive\n"
      ],
      "metadata": {
        "id": "5CrgRikIy1U3"
      }
    },
    {
      "cell_type": "code",
      "source": [
        "nxl = \"/content/drive/MyDrive/ANALITICA DE NEGOCIOS/0. SolicitantesCrédito(USD).xlsx\"\n",
        "XDB = pd.read_excel(nxl, sheet_name= 1)\n",
        "XDB=XDB.dropna()    #Evitar celdas vacias\n",
        "XDB.head()\n",
        "#Seleccionamos las variables de interés\n",
        "XD=XDB[[\"Edad\", \"Ingresos\", \"Egresos\", \"Monto (EAD)\"]]\n",
        "XD.head()                                         #Se necesita array para que los lea como números\n",
        "XD=np.array(XD)           #Convierte la tabla en números\n",
        "XD\n",
        "yd=XDB[[\"PreApr\"]] ; yd=np.array(yd)       #Variable de Salida - Convierte a la tabla\n"
      ],
      "metadata": {
        "id": "Au8PWmZKy6vx"
      },
      "execution_count": null,
      "outputs": []
    },
    {
      "cell_type": "markdown",
      "source": [
        "2. Se procede con la construcción del modelo de Árbol"
      ],
      "metadata": {
        "id": "znzJ6YIN1fnO"
      }
    },
    {
      "cell_type": "code",
      "source": [
        "mar = DecisionTreeClassifier(criterion=\"gini\", max_depth= 4)\n",
        "mar.fit(XD,yd)     #Valores de pronóstico sirven para evaluar el modelo\n",
        "ydp = mar.predict(XD)\n",
        "\n",
        "#Evaluamos el modelo\n",
        "from sklearn.metrics import confusion_matrix\n",
        "cm = confusion_matrix(yd, ydp)\n",
        "VN = cm[0][0]\n",
        "FP = cm[0][1]\n",
        "FN = cm[1][0]\n",
        "VP = cm[1][1]\n",
        "print(\"VN\", VN, \"FP\", FP, \"FN\", FN, \"VP\", VP)\n",
        "\n",
        "Exactitud = (VP+VN)/(VP+VN+FP+FN)\n",
        "Exactitud\n",
        "Sensibilidad = VP/(VP+FN)\n",
        "Sensibilidad\n",
        "Especificidad = VN/(VN+FP)\n",
        "Especificidad\n",
        "\n",
        "print(\"Exactitud\", Exactitud, \"Sensibilidad\", Sensibilidad, \"Especificidad\", Especificidad)\n"
      ],
      "metadata": {
        "colab": {
          "base_uri": "https://localhost:8080/"
        },
        "id": "wlYt4RrHznTT",
        "outputId": "e5c970e3-c466-4d95-dfcd-8cfbf387e5c3"
      },
      "execution_count": null,
      "outputs": [
        {
          "output_type": "stream",
          "name": "stdout",
          "text": [
            "VN 2301 FP 658 FN 644 VP 2239\n",
            "Exactitud 0.7771311194796303 Sensibilidad 0.7766215747485259 Especificidad 0.7776275768840825\n"
          ]
        }
      ]
    },
    {
      "cell_type": "markdown",
      "source": [
        "3. Se procede con la visualización del arbol"
      ],
      "metadata": {
        "id": "kMa9xcFO5ZgJ"
      }
    },
    {
      "cell_type": "code",
      "source": [
        "from sklearn.tree import export_graphviz      #export graphiz es graficador\n",
        "from pydotplus import graph_from_dot_data                #Que datos le voy a colocar al arbol\n",
        "vs= [\"Edad\", \"Ingresos\", \"Egresos\", \"Monto (EAD)\"]       #Estos nombres aparecen en el arbol\n",
        "\n",
        "dot_data=export_graphviz(mar, feature_names=vs)         #Asegurar nombres del grafíco\n",
        "graph=graph_from_dot_data(dot_data)      #Se hace gráfico del Árbol\n",
        "graph.write_png(\"arbol.png\")            #Se crea la imagén\n",
        "\n"
      ],
      "metadata": {
        "colab": {
          "base_uri": "https://localhost:8080/"
        },
        "id": "4zNQ817L5dkI",
        "outputId": "b4e33035-97f6-4740-eaa9-21911e3e4cca"
      },
      "execution_count": null,
      "outputs": [
        {
          "output_type": "execute_result",
          "data": {
            "text/plain": [
              "True"
            ]
          },
          "metadata": {},
          "execution_count": 7
        }
      ]
    },
    {
      "cell_type": "markdown",
      "source": [
        "4. Le calculamos los valores de preaprob a los solicitantes nuevos"
      ],
      "metadata": {
        "id": "Zzv7Ykb4BDI1"
      }
    },
    {
      "cell_type": "code",
      "source": [
        "XDB2=pd.read_excel(nxl, sheet_name=2)   #Hoja dos es la que no tiene salida\n",
        "XDB2=XDB2[[\"Edad\", \"Ingresos\", \"Egresos\", \"Monto (EAD)\"]]\n",
        "XDB2=XDB2.dropna()   #Base de datos solicitantes nuevos\n",
        "\n",
        "XD2=np.array(XDB2)\n",
        "ydp2=mar.predict(XD2)\n",
        "XDB2[\"PreApr\"]=ydp2     #Le pego la columna a la base de datos\n",
        "XDB2.head()\n",
        "\n",
        "XDB2.to_excel(\"NuevosSolicitantes.xlsx\")   #Importancia del analísis\n",
        "len(ydp2)    #2536 solicitantes nuevos\n",
        "np.sum(ydp2==1)\n",
        "len(ydp2)-np.sum(ydp2==1)\n",
        "\n",
        "n=(len(ydp2)-np.sum(ydp2==1))/len(ydp2)\n",
        "print(n)"
      ],
      "metadata": {
        "id": "TCsKSEGqBH1t"
      },
      "execution_count": null,
      "outputs": []
    },
    {
      "cell_type": "markdown",
      "source": [
        "**Analísis de Resultados**\n",
        "En la base de datos se puede observar un total de 5842 solicitantes de credíto dividios en 2959 solicitantes preaprobados (51%) y un total de 2883 solicitantes prenegados (49%). De acuerdo con lo anterior, el modelo de arbol arrojó un indice de exactitud cercano al 77%, así como indices de sensibilidad cercanos al 77% igualmente y que muestran el comportamiento del modelo frente a la clasificación de solicitantes preaprobados. Este mismo porcentaje en promedio se pudo observar frente al indice de especificidad el cual mide el comportamiento del modelo en la clasificación de solicitantes prenegados. Es importante mencionar que un modelo que exhiba valores de exactitud (accuracy) por encima del 75%, es considerado un modelo aceptable para el pronóstico de los datos. Para la base de datos de solicitantes nuevos (2536 solicitantes), se puede observar que el modelo clasificó un total de 1260 solicitantes (49.6 %) en la categoría de preaprobados y un total de 1276 (50.3%)en la categoría de negados. Lo anterior muestra la predominancia del modelo por clasificación de la categoría de prenegados."
      ],
      "metadata": {
        "id": "sMZFIbRcDfu8"
      }
    }
  ]
}