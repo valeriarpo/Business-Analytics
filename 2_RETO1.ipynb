{
  "nbformat": 4,
  "nbformat_minor": 0,
  "metadata": {
    "colab": {
      "provenance": [],
      "authorship_tag": "ABX9TyPCtZiTQ8ikRv2tDjnNiLHK",
      "include_colab_link": true
    },
    "kernelspec": {
      "name": "python3",
      "display_name": "Python 3"
    },
    "language_info": {
      "name": "python"
    }
  },
  "cells": [
    {
      "cell_type": "markdown",
      "metadata": {
        "id": "view-in-github",
        "colab_type": "text"
      },
      "source": [
        "<a href=\"https://colab.research.google.com/github/valeriarpo/Business-Analytics/blob/main/2_RETO1.ipynb\" target=\"_parent\"><img src=\"https://colab.research.google.com/assets/colab-badge.svg\" alt=\"Open In Colab\"/></a>"
      ]
    },
    {
      "cell_type": "code",
      "execution_count": null,
      "metadata": {
        "id": "hD_NliFZbUO6"
      },
      "outputs": [],
      "source": [
        "import numpy as np\n",
        "import pandas as pd\n",
        "\n",
        "from sklearn.naive_bayes import GaussianNB\n",
        "from sklearn.metrics import confusion_matrix\n"
      ]
    },
    {
      "cell_type": "code",
      "source": [
        "nxl = \"\"\n",
        "XDB = pd.read_excel(nxl, sheet_name= 1)\n",
        "XDB        #6705 datos\n",
        "XDB=XDB.dropna()     #Quita celdas vacias\n",
        "\n",
        "XD=XDB[[\"Weekday\",\"ViolCat\",\"ClearWeather\",\"Month\",\"Daylight\"]]\n",
        "XD\n",
        "\n",
        "yd=XDB[[\"Highway\"]]     #Modelo identifique si accidente sucedio en autopista o no\n",
        "yd\n",
        "\n",
        "conteo = yd.value_counts()\n",
        "porcentaje_categorias = (conteo/len(XD))*100\n",
        "print(porcentaje_categorias)                               #Porcentaje de accidentes en autopista 28%  #Porcentaje accidentes en NO autopista/zonas rurales 72%\n",
        "\n",
        "\n",
        "\n"
      ],
      "metadata": {
        "colab": {
          "base_uri": "https://localhost:8080/"
        },
        "id": "jBa8GtwznUzT",
        "outputId": "194582b9-f672-4171-9da3-8a037fc8108d"
      },
      "execution_count": null,
      "outputs": [
        {
          "output_type": "stream",
          "name": "stdout",
          "text": [
            "Highway\n",
            "0          72.856078\n",
            "1          27.143922\n",
            "Name: count, dtype: float64\n"
          ]
        }
      ]
    },
    {
      "cell_type": "code",
      "source": [
        "mnb= GaussianNB()\n",
        "mnb.fit(XD,yd)\n",
        "u = mnb.theta_      #son las medias\n",
        "print(\"las medias de las variables son:\\n\", u)\n",
        "sigma=np.sqrt(mnb.var_)             #desviación\n",
        "print(\"las valores de la desviación son:\\n\", sigma)\n",
        "\n",
        "\n",
        "Limite_Superior= u+sigma\n",
        "print(\"los limites superiores son:\\n\", Limite_Superior)\n",
        "Limite_Inferior= u-sigma\n",
        "print(\"los limites inferiores son:\\n\", Limite_Inferior)\n",
        "\n",
        "\n",
        "ydp=mnb.predict(XD)\n",
        "\n",
        "\n",
        "cm=confusion_matrix(yd,ydp)\n",
        "print(\"La matriz de confusión es::\\n\", cm)\n",
        "\n",
        "VN=cm[0,0]\n",
        "FP=cm[0,1]\n",
        "FN=cm[1,0]\n",
        "VP=cm[1,1]\n",
        "print(\"VN=\",VN,\"FP=\",FP,\"FN=\",FN,\"VP=\",VP)\n",
        "\n",
        "Exactitud=(VP+VN)/len(XD)\n",
        "print(\"la exactitud es=\",Exactitud)\n",
        "\n",
        "Tasa_de_error= (FP+FN)/len(XD)\n",
        "print(\"La tasa de error del modelo es: \", Tasa_de_error)\n",
        "\n",
        "sensibilidad= VP/(VP+FN)\n",
        "print(\"La sensibilidad del modelo es: \", sensibilidad)\n",
        "\n",
        "especificidad= VN/(VN+FN)\n",
        "print(\"La especificidad del modelo es: \", especificidad)\n",
        "\n",
        "pres= VP/(VP+FP)\n",
        "print(\"La precisión del modelo es: \", pres)\n",
        "\n",
        "PredNeg= VN/(VN+FN)\n",
        "print(\"La predicción negativa del modelo es: \", PredNeg)\n",
        "\n",
        "XSC = [[7,1,1,3,0]]\n",
        "ydsc=mnb.predict(XSC)\n",
        "print(\"La predicción del modelo es: \", ydsc)\n"
      ],
      "metadata": {
        "colab": {
          "base_uri": "https://localhost:8080/"
        },
        "id": "wyWa9OdVuGeb",
        "outputId": "8f890692-c5b2-43c0-a9f5-449f289b3342"
      },
      "execution_count": null,
      "outputs": [
        {
          "output_type": "stream",
          "name": "stdout",
          "text": [
            "las medias de las variables son:\n",
            " [[3.88945752 6.7778915  0.85261003 5.52548618 0.6814739 ]\n",
            " [3.82417582 4.31538462 0.79450549 5.47417582 0.70934066]]\n",
            "las valores de la desviación son:\n",
            " [[1.92831125 3.63475806 0.35449426 3.27379337 0.46590475]\n",
            " [1.82800803 2.36793707 0.40406253 3.26215279 0.45406663]]\n",
            "los limites superiores son:\n",
            " [[ 5.81776877 10.41264957  1.20710429  8.79927955  1.14737865]\n",
            " [ 5.65218385  6.68332168  1.19856802  8.73632861  1.16340729]]\n",
            "los limites inferiores son:\n",
            " [[1.96114628 3.14313344 0.49811577 2.25169281 0.21556915]\n",
            " [1.9961678  1.94744755 0.39044297 2.21202304 0.25527403]]\n",
            "La matriz de confusión es::\n",
            " [[4560  325]\n",
            " [1563  257]]\n",
            "VN= 4560 FP= 325 FN= 1563 VP= 257\n",
            "la exactitud es= 0.7184190902311708\n",
            "La tasa de error del modelo es:  0.2815809097688292\n",
            "La sensibilidad del modelo es:  0.1412087912087912\n",
            "La especificidad del modelo es:  0.7447329740323371\n",
            "La precisión del modelo es:  0.4415807560137457\n",
            "La predicción negativa del modelo es:  0.7447329740323371\n",
            "La predicción del modelo es:  [0]\n"
          ]
        },
        {
          "output_type": "stream",
          "name": "stderr",
          "text": [
            "/usr/local/lib/python3.10/dist-packages/sklearn/utils/validation.py:1183: DataConversionWarning: A column-vector y was passed when a 1d array was expected. Please change the shape of y to (n_samples, ), for example using ravel().\n",
            "  y = column_or_1d(y, warn=True)\n",
            "/usr/local/lib/python3.10/dist-packages/sklearn/base.py:465: UserWarning: X does not have valid feature names, but GaussianNB was fitted with feature names\n",
            "  warnings.warn(\n"
          ]
        }
      ]
    },
    {
      "cell_type": "code",
      "source": [
        "XDBn=pd.read_excel(nxl,sheet_name=0)\n",
        "XDBn.head(100)\n",
        "\n",
        "XDn=XDBn[[\"Weekday\",\"ViolCat\",\"ClearWeather\",\"Month\",\"Daylight\"]]\n",
        "\n",
        "\n",
        "ydn=XDBn[[\"Highway\"]]\n",
        "\n",
        "ydpn=mnb.predict(XDn)\n",
        "ydpn\n",
        "\n",
        "XDsal=np.column_stack((XDn,ydpn,ydn))\n",
        "df_sal=pd.DataFrame(XDsal)\n",
        "df_sal.to_excel(\"Informe.xlsx\")\n"
      ],
      "metadata": {
        "id": "Ft_d1F7CB1qn"
      },
      "execution_count": null,
      "outputs": []
    },
    {
      "cell_type": "markdown",
      "source": [
        "# **Analísis de Resultado**\n",
        "Los resultados obtenidos por el modelo propuesto para la predicción de accidentes automovilísticos, en autopista o no, en el condado de San Diego son los siguientes: el modelo analizó un total de 6705 datos, en los cuales mostró una exactitud del 72%. Este es un porcentaje lo suficientemente alto para considerar la información analizada como verídica; por lo tanto, la tasa de error del modelo es del 28%\n",
        "Esto se refleja en el análisis, donde, del total de datos, el modelo acertó en la predicción de 4560 accidentes en zonas rurales y se equivocó 325 veces en el análisis de accidentes que no ocurrieron en la autopista (72% del total de datos). Asimismo, el modelo acertó en la predicción de 1,563 accidentes en la autopista y se equivocó 257 veces (28% del total de datos).\n",
        "En cuanto al intervalo de días de la semana en que ocurren los accidentes, este varía desde el día 1.9 (que se puede aproximar al día 2) hasta el día 5. Tomando en cuenta la media, se podría decir que los accidentes suelen suceder a mitad de semana. Además, en el análisis de violcat, el intervalo de accidentes en zonas rurales es de 3.1 a 10.4, mientras que el intervalo para accidentes en autopista es de 1.9 a 6.6.\n",
        "El modelo también cuenta con una sensibilidad del 14%, lo cual significa que 44% de los accidentes positivos han sido predichos correctamente como positivos. TIene specificidad del 93%, lo que indica los accidentes negativos que han sido predichos correctamente como negativos. La precisión del modelo al predecir los resultados es del 44%.\n",
        "Finalmente, para un sujeto con las características analizadas anteriormente, su predicción de accidente en una autopista es negativa, lo cual nos lleva a concluir que vive en una zona rural.\n",
        "\n",
        "Adicionalmente se concluye que 4885 de los datos corresponden a accidentes rurales y 1820 a accidentes en autopista.\n",
        "\n"
      ],
      "metadata": {
        "id": "vUtNSsurIRHc"
      }
    }
  ]
}